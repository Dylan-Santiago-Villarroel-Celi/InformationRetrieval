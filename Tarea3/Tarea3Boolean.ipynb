{
  "nbformat": 4,
  "nbformat_minor": 0,
  "metadata": {
    "colab": {
      "provenance": []
    },
    "kernelspec": {
      "name": "python3",
      "display_name": "Python 3"
    },
    "language_info": {
      "name": "python"
    }
  },
  "cells": [
    {
      "cell_type": "markdown",
      "source": [
        "# Boolean Search in Documents\n",
        "## Objective\n",
        "Expand the simple term search functionality to include Boolean search capabilities. This will allow users to perform more complex queries by combining multiple search terms using Boolean operators.\n",
        "\n",
        "## Problem Description\n",
        "You must enhance the existing search engine from the previous exercise to support Boolean operators: AND, OR, and NOT. This will enable the retrieval of documents based on the logical relationships between multiple terms.\n",
        "\n",
        "## Requirements\n",
        "### Step 1: Update Data Preparation\n",
        "Ensure that the documents are still loaded and preprocessed from the previous task. The data should be clean and ready for advanced querying."
      ],
      "metadata": {
        "id": "rXg6xaz4vO6g"
      }
    },
    {
      "cell_type": "code",
      "execution_count": null,
      "metadata": {
        "id": "dNX86xJ7vGFF"
      },
      "outputs": [],
      "source": []
    },
    {
      "cell_type": "markdown",
      "source": [
        "### Step 2: Create an Inverted Index\n",
        "Create an inverted index from the documents. This index maps each word to the set of document IDs in which that word appears. This facilitates word lookup in the search process."
      ],
      "metadata": {
        "id": "hZ0VJQEUxPhK"
      }
    },
    {
      "cell_type": "code",
      "source": [
        "import os\n",
        "import re\n",
        "from collections import defaultdict\n",
        "\n",
        "def tokenize(text):\n",
        "    # Tokeniza el texto y elimina signos de puntuación y caracteres especiales\n",
        "    tokens = re.findall(r'\\b\\w+\\b', text.lower())\n",
        "    return tokens\n",
        "\n",
        "def create_inverted_index(directory):\n",
        "    inverted_index = defaultdict(set)  # Usamos un conjunto para evitar duplicados\n",
        "\n",
        "    # Recorre los documentos en el directorio\n",
        "    for filename in os.listdir(directory):\n",
        "        if filename.endswith('.txt'):\n",
        "            with open(os.path.join(directory, filename), 'r') as file:\n",
        "                document_id = os.path.splitext(filename)[0]\n",
        "                text = file.read()\n",
        "                tokens = tokenize(text)\n",
        "                # Actualiza el índice invertido para cada palabra en el documento\n",
        "                for token in tokens:\n",
        "                    inverted_index[token].add(document_id)\n",
        "\n",
        "    return inverted_index\n",
        "\n",
        "# Directorio que contiene los documentos de texto\n",
        "directory = '/content/drive/MyDrive/Datas/Data'\n",
        "\n",
        "# Crea el índice invertido\n",
        "inverted_index = create_inverted_index(directory)\n",
        "\n",
        "# Ejemplo de cómo acceder al índice invertido\n",
        "word = 'example'\n",
        "if word in inverted_index:\n",
        "    print(f\"The word '{word}' appears in the following documents:\", inverted_index[word])\n",
        "else:\n",
        "    print(f\"The word '{word}' does not appear in any documents.\")\n"
      ],
      "metadata": {
        "colab": {
          "base_uri": "https://localhost:8080/"
        },
        "id": "nue7iTdqxRgq",
        "outputId": "f7a85c96-c202-4b59-e6b4-56724b860012"
      },
      "execution_count": 1,
      "outputs": [
        {
          "output_type": "stream",
          "name": "stdout",
          "text": [
            "The word 'example' appears in the following documents: {'pg12582', 'pg345', 'pg26073', 'pg6593', 'pg10907', 'pg2852', 'pg27827', 'pg3207', 'pg21012', 'pg46', 'pg996', 'pg2600', 'pg8800', 'pg98', 'pg844', 'pg1259', 'pg61419', 'pg28054', 'pg59468', 'pg67979', 'pg41445', 'pg43', 'pg50038', 'pg30254', 'pg768', 'pg48191', 'pg2160', 'pg120', 'pg5200', 'pg44388', 'pg10676', 'pg62119', 'pg1998', 'pg100', 'pg16', 'pg47312', 'pg44837', 'pg394', 'pg45540', 'pg59469', 'pg76', 'pg25344', 'pg35899', 'pg84', 'pg408', 'pg7370', 'pg4085', 'pg514', 'pg42933', 'pg73448', 'pg1342', 'pg45848', 'pg2554', 'pg2641', 'pg4300', 'pg18893', 'pg29728', 'pg73447', 'pg600', 'pg45', 'pg2701', 'pg6130', 'pg205', 'pg1400', 'pg2814', 'pg1260', 'pg37106', 'pg219', 'pg41070', 'pg16389', 'pg5197', 'pg6761', 'pg145', 'pg1661', 'pg52882', 'pg21700', 'pg1232', 'pg1184'}\n"
          ]
        }
      ]
    },
    {
      "cell_type": "markdown",
      "source": [
        "### Step 3: Implementing Boolean Search\n",
        "* Enhance Input Query: Modify the function to accept complex queries that can include the Boolean operators AND, OR, and NOT.\n",
        "\n",
        "* Implement Boolean Logic:\n",
        "\n",
        " * AND: The document must contain all the terms. For example, python AND programming should return documents containing both \"python\" and \"programming\".\n",
        "\n",
        " * OR: The document can contain any of the terms. For example, python OR programming should return documents containing either \"python\", \"programming\", or both.\n",
        "\n",
        " * NOT: The document must not contain the term following NOT. For example, python NOT snake should return documents that contain \"python\" but not \"snake\"."
      ],
      "metadata": {
        "id": "A-gMZxizyVtg"
      }
    },
    {
      "cell_type": "code",
      "source": [
        "def boolean_search(query, inverted_index):\n",
        "    # Tokeniza la consulta\n",
        "    query_terms = query.lower().split()\n",
        "\n",
        "    # Inicializa el conjunto de documentos que coinciden con la consulta\n",
        "    result_docs = set()\n",
        "\n",
        "    # Itera sobre los términos de la consulta\n",
        "    for term in query_terms:\n",
        "        # Si el término es una operación booleana, ignóralo\n",
        "        if term in ['and', 'or', 'not']:\n",
        "            continue\n",
        "\n",
        "        # Obtiene los documentos que contienen el término\n",
        "        term_docs = inverted_index.get(term, set())\n",
        "\n",
        "        # Aplica la lógica booleana a los términos\n",
        "        if 'not' in query_terms:\n",
        "            # Si hay un NOT en la consulta, elimina los documentos que contienen el término después de NOT\n",
        "            not_index = query_terms.index('not')\n",
        "            if term == query_terms[not_index + 1]:\n",
        "                result_docs -= term_docs\n",
        "            else:\n",
        "                result_docs |= term_docs\n",
        "        else:\n",
        "            if 'and' in query_terms:\n",
        "                # Si hay un AND en la consulta, los documentos deben contener todos los términos\n",
        "                and_index = query_terms.index('and')\n",
        "                if term == query_terms[and_index - 1] or term == query_terms[and_index + 1]:\n",
        "                    result_docs &= term_docs\n",
        "            elif 'or' in query_terms:\n",
        "                # Si hay un OR en la consulta, los documentos pueden contener cualquiera de los términos\n",
        "                or_index = query_terms.index('or')\n",
        "                if term == query_terms[or_index - 1] or term == query_terms[or_index + 1]:\n",
        "                    result_docs |= term_docs\n",
        "            else:\n",
        "                # Si no hay operadores booleanos, simplemente agrega los documentos que contienen el término\n",
        "                result_docs |= term_docs\n",
        "\n",
        "    return result_docs\n",
        "\n",
        "# Ejemplo de uso\n",
        "query = \"her OR him\"\n",
        "matching_docs = boolean_search(query, inverted_index)\n",
        "print(\"Documentos que coinciden con la consulta:\", matching_docs)\n"
      ],
      "metadata": {
        "colab": {
          "base_uri": "https://localhost:8080/"
        },
        "id": "kFdnxxgHy9kW",
        "outputId": "444232fa-0d27-425e-b00b-01597e42ea0b"
      },
      "execution_count": 11,
      "outputs": [
        {
          "output_type": "stream",
          "name": "stdout",
          "text": [
            "Documentos que coinciden con la consulta: {'pg12582', 'pg345', 'pg41287', 'pg26073', 'pg6593', 'pg10907', 'pg2852', 'pg27827', 'pg3207', 'pg21012', 'pg46', 'pg996', 'pg2600', 'pg55', 'pg8800', 'pg98', 'pg844', 'pg64317', 'pg1727', 'pg1259', 'pg61419', 'pg28054', 'pg1952', 'pg59468', 'pg74', 'pg67979', 'pg174', 'pg41445', 'pg43', 'pg50038', 'pg30254', 'pg768', 'pg48191', 'pg2160', 'pg120', 'pg244', 'pg5200', 'pg44388', 'pg10676', 'pg62119', 'pg1080', 'pg1998', 'pg100', 'pg16', 'pg47312', 'pg44837', 'pg1513', 'pg394', 'pg45540', 'pg59469', 'pg76', 'pg25344', 'pg2591', 'pg35899', 'pg84', 'pg408', 'pg7370', 'pg4085', 'pg514', 'pg2542', 'pg42933', 'pg73448', 'pg1342', 'pg45848', 'pg2554', 'pg2641', 'pg4300', 'pg18893', 'pg29728', 'pg73447', 'pg600', 'pg45', 'pg2701', 'pg6130', 'pg73442', 'pg205', 'pg1400', 'pg2814', 'pg1260', 'pg37106', 'pg219', 'pg11', 'pg41070', 'pg16389', 'pg67098', 'pg5197', 'pg6761', 'pg145', 'pg1661', 'pg52281', 'pg52882', 'pg21700', 'pg1232', 'pg1184', 'pg73444'}\n"
          ]
        }
      ]
    }
  ]
}