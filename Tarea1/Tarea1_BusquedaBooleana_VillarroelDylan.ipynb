{
  "nbformat": 4,
  "nbformat_minor": 0,
  "metadata": {
    "colab": {
      "provenance": []
    },
    "kernelspec": {
      "name": "python3",
      "display_name": "Python 3"
    },
    "language_info": {
      "name": "python"
    }
  },
  "cells": [
    {
      "cell_type": "markdown",
      "source": [
        "# Term Search in Documents\n",
        "## Objective\n",
        "The goal of this exercise is to develop a simple information retrieval system that allows the user to search for a specific term across a set of text documents. This will introduce you to the basics of text processing and searching algorithms in the context of information retrieval.\n",
        "\n",
        "## Problem Description\n",
        "You are provided with a set of text documents. Your task is to implement a search function that:\n",
        "\n",
        "* Takes a user-inputted term as the query.\n",
        "* Searches for this term across all the provided documents.\n",
        "* Returns a list of documents where the term appears.\n",
        "\n",
        "## Requirements\n",
        "### Step 1: Preparing the Data\n",
        "* Load the Documents: You will start by loading the text documents into your program. These documents can be in plain text format stored in a directory.\n",
        "* Read Each Document: Implement a function to read each document and store its contents in a data structure of your choice (e.g., a list).\n",
        "\n",
        "\n"
      ],
      "metadata": {
        "id": "_nzNku7AAkeA"
      }
    },
    {
      "cell_type": "code",
      "source": [
        "import os\n",
        "import string\n",
        "from collections import defaultdict\n",
        "from itertools import product"
      ],
      "metadata": {
        "id": "e0hfAk67AG7v"
      },
      "execution_count": 7,
      "outputs": []
    },
    {
      "cell_type": "code",
      "source": [
        "# Directorio donde se encuentran los documentos de texto\n",
        "directorio = \"/content/drive/MyDrive/Datas/Data\"\n",
        "\n",
        "# Diccionario para almacenar los archivos de texto y sus palabras\n",
        "archivos_palabras = {}\n",
        "\n",
        "# Leer y procesar los archivos de texto\n",
        "for archivo in os.listdir(directorio):\n",
        "    if archivo.endswith(\".txt\"):\n",
        "        with open(os.path.join(directorio, archivo), \"r\", encoding=\"utf-8\") as file:\n",
        "            contenido = file.read().lower()\n",
        "            contenido = contenido.translate(str.maketrans(\"\", \"\", string.punctuation))\n",
        "            palabras = contenido.split()\n",
        "            archivos_palabras[archivo] = set(palabras)\n",
        "\n",
        "# Crear un diccionario para almacenar los conjuntos de índices de archivos por palabra\n",
        "palabra_archivos = defaultdict(set)\n",
        "for archivo, palabras in archivos_palabras.items():\n",
        "    for palabra in palabras:\n",
        "        palabra_archivos[palabra].add(archivo)\n",
        "\n"
      ],
      "metadata": {
        "id": "2ELEOHLbAN6f"
      },
      "execution_count": 8,
      "outputs": []
    },
    {
      "cell_type": "markdown",
      "source": [
        "### Step 2: Implementing the Search\n",
        "* Input Query: Implement a function to accept a query term from the user.\n",
        "* Search Function: Create a function that:\n",
        "  * Iterates through each document.\n",
        "  * Checks if the query term appears in the document.\n",
        "  * You may choose to implement case-insensitive search to improve user experience.\n",
        "* Return Results: The function should return the names or identifiers of the documents where the term is found."
      ],
      "metadata": {
        "id": "eqoboOSgENwi"
      }
    },
    {
      "cell_type": "code",
      "source": [
        "# Función para evaluar una consulta booleana\n",
        "def evaluar_consulta(consulta):\n",
        "    consulta = consulta.lower().strip()\n",
        "\n",
        "    # Tokenizar la consulta\n",
        "    tokens = consulta.split()\n",
        "\n",
        "    # Función auxiliar para obtener los archivos que contienen una palabra\n",
        "    def obtener_archivos(palabra):\n",
        "        return palabra_archivos[palabra]\n",
        "\n",
        "    # Función auxiliar para evaluar una expresión booleana\n",
        "    def evaluar_expresion(expresion):\n",
        "        palabras = expresion.split()\n",
        "        resultados = []\n",
        "\n",
        "        for palabra in palabras:\n",
        "            if palabra == \"and\":\n",
        "                continue  # No hacemos nada, el \"and\" es implícito en la evaluación\n",
        "            elif palabra == \"or\":\n",
        "                continue  # No hacemos nada, el \"or\" es implícito en la evaluación\n",
        "            else:\n",
        "                resultados.append(obtener_archivos(palabra))\n",
        "\n",
        "        if \"and\" in palabras:\n",
        "            resultado_final = set.intersection(*resultados)\n",
        "        elif \"or\" in palabras:\n",
        "            resultado_final = set.union(*resultados)\n",
        "        else:\n",
        "            resultado_final = resultados[0] if resultados else set()\n",
        "\n",
        "        return resultado_final\n",
        "\n",
        "    # Evaluar la consulta\n",
        "    resultado = evaluar_expresion(consulta)\n",
        "\n",
        "    return resultado\n"
      ],
      "metadata": {
        "id": "EywLxZelDhSv"
      },
      "execution_count": 9,
      "outputs": []
    },
    {
      "cell_type": "code",
      "execution_count": 4,
      "metadata": {
        "id": "IqBHxOi-_WA8"
      },
      "outputs": [],
      "source": []
    },
    {
      "cell_type": "markdown",
      "source": [
        "### Step 3: Displaying Results\n",
        "* Output the Results: For each search query, output the results in a user-friendly format, listing the documents where the term was found, or a message indicating that the term does not appear in any document."
      ],
      "metadata": {
        "id": "eX4FFm0uERUp"
      }
    },
    {
      "cell_type": "code",
      "source": [
        "# Ejemplo de uso:\n",
        "consulta = input(\"Ingresa una consulta booleana (por ejemplo, palabra1 OR palabra2 AND palabra3): \")\n",
        "\n",
        "archivos_encontrados = evaluar_consulta(consulta)\n",
        "\n",
        "print(\"Archivos que coinciden con la consulta '{}':\".format(consulta))\n",
        "for archivo in archivos_encontrados:\n",
        "    print(archivo)"
      ],
      "metadata": {
        "colab": {
          "base_uri": "https://localhost:8080/"
        },
        "id": "Sie5zixMAAvI",
        "outputId": "1bf372fd-2898-4192-b1bb-87f1b146f5bc"
      },
      "execution_count": 11,
      "outputs": [
        {
          "output_type": "stream",
          "name": "stdout",
          "text": [
            "Ingresa una consulta booleana (por ejemplo, palabra1 OR palabra2 AND palabra3): state or municipal\n",
            "Archivos que coinciden con la consulta 'state or municipal':\n",
            "pg5197.txt\n",
            "pg2814.txt\n",
            "pg2600.txt\n",
            "pg408.txt\n",
            "pg44388.txt\n",
            "pg46.txt\n",
            "pg41287.txt\n",
            "pg8800.txt\n",
            "pg2701.txt\n",
            "pg1080.txt\n",
            "pg174.txt\n",
            "pg43.txt\n",
            "pg42933.txt\n",
            "pg6761.txt\n",
            "pg73444.txt\n",
            "pg44837.txt\n",
            "pg2641.txt\n",
            "pg514.txt\n",
            "pg27827.txt\n",
            "pg67979.txt\n",
            "pg10676.txt\n",
            "pg59469.txt\n",
            "pg52882.txt\n",
            "pg3207.txt\n",
            "pg1727.txt\n",
            "pg1998.txt\n",
            "pg50038.txt\n",
            "pg26073.txt\n",
            "pg2591.txt\n",
            "pg73447.txt\n",
            "pg1259.txt\n",
            "pg16389.txt\n",
            "pg11.txt\n",
            "pg4300.txt\n",
            "pg244.txt\n",
            "pg41070.txt\n",
            "pg73442.txt\n",
            "pg394.txt\n",
            "pg600.txt\n",
            "pg67098.txt\n",
            "pg1513.txt\n",
            "pg1232.txt\n",
            "pg145.txt\n",
            "pg2554.txt\n",
            "pg12582.txt\n",
            "pg1661.txt\n",
            "pg1952.txt\n",
            "pg35899.txt\n",
            "pg48191.txt\n",
            "pg10907.txt\n",
            "pg41445.txt\n",
            "pg21012.txt\n",
            "pg7370.txt\n",
            "pg29728.txt\n",
            "pg2852.txt\n",
            "pg25344.txt\n",
            "pg55.txt\n",
            "pg219.txt\n",
            "pg2542.txt\n",
            "pg59468.txt\n",
            "pg64317.txt\n",
            "pg2000.txt\n",
            "pg61419.txt\n",
            "pg45848.txt\n",
            "pg76.txt\n",
            "pg21700.txt\n",
            "pg18893.txt\n",
            "pg6130.txt\n",
            "pg120.txt\n",
            "pg100.txt\n",
            "pg74.txt\n",
            "pg1184.txt\n",
            "pg844.txt\n",
            "pg73448.txt\n",
            "pg2160.txt\n",
            "pg47312.txt\n",
            "pg4085.txt\n",
            "pg768.txt\n",
            "pg30254.txt\n",
            "pg6593.txt\n",
            "pg345.txt\n",
            "pg205.txt\n",
            "pg1342.txt\n",
            "pg37106.txt\n",
            "pg1260.txt\n",
            "pg62119.txt\n",
            "pg52281.txt\n",
            "pg20228.txt\n",
            "pg1400.txt\n",
            "pg5200.txt\n",
            "pg28054.txt\n",
            "pg45.txt\n",
            "pg47629.txt\n",
            "pg84.txt\n",
            "pg98.txt\n",
            "pg16.txt\n",
            "pg996.txt\n",
            "pg45540.txt\n"
          ]
        }
      ]
    },
    {
      "cell_type": "code",
      "source": [
        "\n"
      ],
      "metadata": {
        "id": "gw5zK1B0AEC_"
      },
      "execution_count": null,
      "outputs": []
    }
  ]
}